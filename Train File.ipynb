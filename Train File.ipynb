{
 "cells": [
  {
   "cell_type": "code",
   "execution_count": 1,
   "metadata": {},
   "outputs": [
    {
     "name": "stderr",
     "output_type": "stream",
     "text": [
      "Using TensorFlow backend.\n",
      "C:\\ProgramData\\Anaconda3\\lib\\site-packages\\tensorflow\\python\\framework\\dtypes.py:516: FutureWarning: Passing (type, 1) or '1type' as a synonym of type is deprecated; in a future version of numpy, it will be understood as (type, (1,)) / '(1,)type'.\n",
      "  _np_qint8 = np.dtype([(\"qint8\", np.int8, 1)])\n",
      "C:\\ProgramData\\Anaconda3\\lib\\site-packages\\tensorflow\\python\\framework\\dtypes.py:517: FutureWarning: Passing (type, 1) or '1type' as a synonym of type is deprecated; in a future version of numpy, it will be understood as (type, (1,)) / '(1,)type'.\n",
      "  _np_quint8 = np.dtype([(\"quint8\", np.uint8, 1)])\n",
      "C:\\ProgramData\\Anaconda3\\lib\\site-packages\\tensorflow\\python\\framework\\dtypes.py:518: FutureWarning: Passing (type, 1) or '1type' as a synonym of type is deprecated; in a future version of numpy, it will be understood as (type, (1,)) / '(1,)type'.\n",
      "  _np_qint16 = np.dtype([(\"qint16\", np.int16, 1)])\n",
      "C:\\ProgramData\\Anaconda3\\lib\\site-packages\\tensorflow\\python\\framework\\dtypes.py:519: FutureWarning: Passing (type, 1) or '1type' as a synonym of type is deprecated; in a future version of numpy, it will be understood as (type, (1,)) / '(1,)type'.\n",
      "  _np_quint16 = np.dtype([(\"quint16\", np.uint16, 1)])\n",
      "C:\\ProgramData\\Anaconda3\\lib\\site-packages\\tensorflow\\python\\framework\\dtypes.py:520: FutureWarning: Passing (type, 1) or '1type' as a synonym of type is deprecated; in a future version of numpy, it will be understood as (type, (1,)) / '(1,)type'.\n",
      "  _np_qint32 = np.dtype([(\"qint32\", np.int32, 1)])\n",
      "C:\\ProgramData\\Anaconda3\\lib\\site-packages\\tensorflow\\python\\framework\\dtypes.py:525: FutureWarning: Passing (type, 1) or '1type' as a synonym of type is deprecated; in a future version of numpy, it will be understood as (type, (1,)) / '(1,)type'.\n",
      "  np_resource = np.dtype([(\"resource\", np.ubyte, 1)])\n",
      "C:\\ProgramData\\Anaconda3\\lib\\site-packages\\tensorboard\\compat\\tensorflow_stub\\dtypes.py:541: FutureWarning: Passing (type, 1) or '1type' as a synonym of type is deprecated; in a future version of numpy, it will be understood as (type, (1,)) / '(1,)type'.\n",
      "  _np_qint8 = np.dtype([(\"qint8\", np.int8, 1)])\n",
      "C:\\ProgramData\\Anaconda3\\lib\\site-packages\\tensorboard\\compat\\tensorflow_stub\\dtypes.py:542: FutureWarning: Passing (type, 1) or '1type' as a synonym of type is deprecated; in a future version of numpy, it will be understood as (type, (1,)) / '(1,)type'.\n",
      "  _np_quint8 = np.dtype([(\"quint8\", np.uint8, 1)])\n",
      "C:\\ProgramData\\Anaconda3\\lib\\site-packages\\tensorboard\\compat\\tensorflow_stub\\dtypes.py:543: FutureWarning: Passing (type, 1) or '1type' as a synonym of type is deprecated; in a future version of numpy, it will be understood as (type, (1,)) / '(1,)type'.\n",
      "  _np_qint16 = np.dtype([(\"qint16\", np.int16, 1)])\n",
      "C:\\ProgramData\\Anaconda3\\lib\\site-packages\\tensorboard\\compat\\tensorflow_stub\\dtypes.py:544: FutureWarning: Passing (type, 1) or '1type' as a synonym of type is deprecated; in a future version of numpy, it will be understood as (type, (1,)) / '(1,)type'.\n",
      "  _np_quint16 = np.dtype([(\"quint16\", np.uint16, 1)])\n",
      "C:\\ProgramData\\Anaconda3\\lib\\site-packages\\tensorboard\\compat\\tensorflow_stub\\dtypes.py:545: FutureWarning: Passing (type, 1) or '1type' as a synonym of type is deprecated; in a future version of numpy, it will be understood as (type, (1,)) / '(1,)type'.\n",
      "  _np_qint32 = np.dtype([(\"qint32\", np.int32, 1)])\n",
      "C:\\ProgramData\\Anaconda3\\lib\\site-packages\\tensorboard\\compat\\tensorflow_stub\\dtypes.py:550: FutureWarning: Passing (type, 1) or '1type' as a synonym of type is deprecated; in a future version of numpy, it will be understood as (type, (1,)) / '(1,)type'.\n",
      "  np_resource = np.dtype([(\"resource\", np.ubyte, 1)])\n"
     ]
    }
   ],
   "source": [
    "from keras.models import Sequential\n",
    "from keras.layers import Dense\n",
    "from keras.layers import Convolution2D\n",
    "from keras.layers import MaxPooling2D\n",
    "from keras.layers import Flatten"
   ]
  },
  {
   "cell_type": "code",
   "execution_count": 2,
   "metadata": {},
   "outputs": [
    {
     "name": "stdout",
     "output_type": "stream",
     "text": [
      "WARNING:tensorflow:From C:\\ProgramData\\Anaconda3\\lib\\site-packages\\keras\\backend\\tensorflow_backend.py:74: The name tf.get_default_graph is deprecated. Please use tf.compat.v1.get_default_graph instead.\n",
      "\n"
     ]
    }
   ],
   "source": [
    "#intialize the model\n",
    "model=Sequential()"
   ]
  },
  {
   "cell_type": "code",
   "execution_count": 3,
   "metadata": {},
   "outputs": [
    {
     "name": "stdout",
     "output_type": "stream",
     "text": [
      "WARNING:tensorflow:From C:\\ProgramData\\Anaconda3\\lib\\site-packages\\keras\\backend\\tensorflow_backend.py:517: The name tf.placeholder is deprecated. Please use tf.compat.v1.placeholder instead.\n",
      "\n",
      "WARNING:tensorflow:From C:\\ProgramData\\Anaconda3\\lib\\site-packages\\keras\\backend\\tensorflow_backend.py:4138: The name tf.random_uniform is deprecated. Please use tf.random.uniform instead.\n",
      "\n"
     ]
    }
   ],
   "source": [
    "#add convolution layer\n",
    "model.add(Convolution2D(32,(3,3),input_shape=(64,64,3),activation=\"relu\"))"
   ]
  },
  {
   "cell_type": "code",
   "execution_count": 4,
   "metadata": {},
   "outputs": [
    {
     "name": "stdout",
     "output_type": "stream",
     "text": [
      "WARNING:tensorflow:From C:\\ProgramData\\Anaconda3\\lib\\site-packages\\keras\\backend\\tensorflow_backend.py:3976: The name tf.nn.max_pool is deprecated. Please use tf.nn.max_pool2d instead.\n",
      "\n"
     ]
    }
   ],
   "source": [
    "#add pooling layer\n",
    "model.add(MaxPooling2D(pool_size = (2, 2)))"
   ]
  },
  {
   "cell_type": "code",
   "execution_count": 5,
   "metadata": {},
   "outputs": [],
   "source": [
    "#Add Flattening Layer\n",
    "model.add(Flatten())"
   ]
  },
  {
   "cell_type": "code",
   "execution_count": 6,
   "metadata": {},
   "outputs": [
    {
     "name": "stderr",
     "output_type": "stream",
     "text": [
      "C:\\ProgramData\\Anaconda3\\lib\\site-packages\\ipykernel_launcher.py:2: UserWarning: Update your `Dense` call to the Keras 2 API: `Dense(activation=\"relu\", units=60, kernel_initializer=\"uniform\")`\n",
      "  \n"
     ]
    }
   ],
   "source": [
    "#Add Hidden Layer\n",
    "model.add(Dense(init=\"uniform\",activation=\"relu\",output_dim=60))"
   ]
  },
  {
   "cell_type": "code",
   "execution_count": 7,
   "metadata": {},
   "outputs": [
    {
     "name": "stderr",
     "output_type": "stream",
     "text": [
      "C:\\ProgramData\\Anaconda3\\lib\\site-packages\\ipykernel_launcher.py:2: UserWarning: Update your `Dense` call to the Keras 2 API: `Dense(activation=\"sigmoid\", units=1, kernel_initializer=\"uniform\")`\n",
      "  \n"
     ]
    }
   ],
   "source": [
    "#Add Output layer\n",
    "model.add(Dense(init=\"uniform\",activation=\"sigmoid\",output_dim=1))"
   ]
  },
  {
   "cell_type": "code",
   "execution_count": 8,
   "metadata": {},
   "outputs": [
    {
     "name": "stdout",
     "output_type": "stream",
     "text": [
      "WARNING:tensorflow:From C:\\ProgramData\\Anaconda3\\lib\\site-packages\\keras\\optimizers.py:790: The name tf.train.Optimizer is deprecated. Please use tf.compat.v1.train.Optimizer instead.\n",
      "\n",
      "WARNING:tensorflow:From C:\\ProgramData\\Anaconda3\\lib\\site-packages\\keras\\backend\\tensorflow_backend.py:3376: The name tf.log is deprecated. Please use tf.math.log instead.\n",
      "\n",
      "WARNING:tensorflow:From C:\\ProgramData\\Anaconda3\\lib\\site-packages\\tensorflow\\python\\ops\\nn_impl.py:180: add_dispatch_support.<locals>.wrapper (from tensorflow.python.ops.array_ops) is deprecated and will be removed in a future version.\n",
      "Instructions for updating:\n",
      "Use tf.where in 2.0, which has the same broadcast rule as np.where\n"
     ]
    }
   ],
   "source": [
    "#Compile the model\n",
    "model.compile(loss=\"binary_crossentropy\",optimizer=\"sgd\",metrics=[\"accuracy\"])"
   ]
  },
  {
   "cell_type": "code",
   "execution_count": 9,
   "metadata": {},
   "outputs": [],
   "source": [
    "from keras.preprocessing.image import ImageDataGenerator\n",
    "\n",
    "train_datagen = ImageDataGenerator(rescale = 1./255,\n",
    "                                   shear_range = 0.2,\n",
    "                                   zoom_range = 0.2,\n",
    "                                   horizontal_flip = True)\n",
    "\n",
    "test_datagen = ImageDataGenerator(rescale = 1./255)"
   ]
  },
  {
   "cell_type": "code",
   "execution_count": 10,
   "metadata": {},
   "outputs": [
    {
     "name": "stdout",
     "output_type": "stream",
     "text": [
      "Found 2800 images belonging to 2 classes.\n",
      "Found 1200 images belonging to 2 classes.\n"
     ]
    }
   ],
   "source": [
    "x_train = train_datagen.flow_from_directory('C:/Users/pragn/Desktop/cnn dataset/trainset',\n",
    "                                                 target_size = (64, 64),\n",
    "                                                 batch_size = 32,\n",
    "                                                     class_mode = 'binary')\n",
    "x_test = test_datagen.flow_from_directory('C:/Users/pragn/Desktop/cnn dataset/testset',\n",
    "                                            target_size = (64, 64),\n",
    "                                            batch_size = 32,\n",
    "                                            class_mode = 'binary')"
   ]
  },
  {
   "cell_type": "code",
   "execution_count": 11,
   "metadata": {},
   "outputs": [
    {
     "name": "stdout",
     "output_type": "stream",
     "text": [
      "{'normal crop': 0, 'weed': 1}\n"
     ]
    }
   ],
   "source": [
    "print(x_train.class_indices)"
   ]
  },
  {
   "cell_type": "code",
   "execution_count": 12,
   "metadata": {},
   "outputs": [
    {
     "name": "stdout",
     "output_type": "stream",
     "text": [
      "WARNING:tensorflow:From C:\\ProgramData\\Anaconda3\\lib\\site-packages\\keras\\backend\\tensorflow_backend.py:986: The name tf.assign_add is deprecated. Please use tf.compat.v1.assign_add instead.\n",
      "\n",
      "Epoch 1/30\n",
      "87/87 [==============================] - 15s 169ms/step - loss: 0.5787 - acc: 0.7500 - val_loss: 0.5537 - val_acc: 0.7500\n",
      "Epoch 2/30\n",
      "87/87 [==============================] - 14s 163ms/step - loss: 0.5311 - acc: 0.7496 - val_loss: 0.5013 - val_acc: 0.7517\n",
      "Epoch 3/30\n",
      "87/87 [==============================] - 14s 164ms/step - loss: 0.4726 - acc: 0.7619 - val_loss: 0.4232 - val_acc: 0.8074\n",
      "Epoch 4/30\n",
      "87/87 [==============================] - 14s 162ms/step - loss: 0.3949 - acc: 0.8193 - val_loss: 0.3906 - val_acc: 0.8313\n",
      "Epoch 5/30\n",
      "87/87 [==============================] - 14s 165ms/step - loss: 0.3649 - acc: 0.8323 - val_loss: 0.3235 - val_acc: 0.8313\n",
      "Epoch 6/30\n",
      "87/87 [==============================] - 14s 165ms/step - loss: 0.3440 - acc: 0.8373 - val_loss: 0.3044 - val_acc: 0.8433\n",
      "Epoch 7/30\n",
      "87/87 [==============================] - 16s 186ms/step - loss: 0.3289 - acc: 0.8434 - val_loss: 0.3003 - val_acc: 0.8741\n",
      "Epoch 8/30\n",
      "87/87 [==============================] - 16s 179ms/step - loss: 0.3122 - acc: 0.8560 - val_loss: 0.2835 - val_acc: 0.8699\n",
      "Epoch 9/30\n",
      "87/87 [==============================] - 15s 174ms/step - loss: 0.3238 - acc: 0.8517 - val_loss: 0.2799 - val_acc: 0.8604\n",
      "Epoch 10/30\n",
      "87/87 [==============================] - 15s 176ms/step - loss: 0.2909 - acc: 0.8628 - val_loss: 0.2654 - val_acc: 0.8878\n",
      "Epoch 11/30\n",
      "87/87 [==============================] - 15s 170ms/step - loss: 0.3076 - acc: 0.8534 - val_loss: 0.3217 - val_acc: 0.8296\n",
      "Epoch 12/30\n",
      "87/87 [==============================] - 14s 162ms/step - loss: 0.2925 - acc: 0.8653 - val_loss: 0.2517 - val_acc: 0.8827\n",
      "Epoch 13/30\n",
      "87/87 [==============================] - 15s 173ms/step - loss: 0.2999 - acc: 0.8624 - val_loss: 0.3082 - val_acc: 0.8476\n",
      "Epoch 14/30\n",
      "87/87 [==============================] - 15s 173ms/step - loss: 0.2820 - acc: 0.8660 - val_loss: 0.2297 - val_acc: 0.9050\n",
      "Epoch 15/30\n",
      "87/87 [==============================] - 15s 171ms/step - loss: 0.2756 - acc: 0.8772 - val_loss: 0.2929 - val_acc: 0.8408\n",
      "Epoch 16/30\n",
      "87/87 [==============================] - 14s 163ms/step - loss: 0.2978 - acc: 0.8639 - val_loss: 0.2432 - val_acc: 0.8784\n",
      "Epoch 17/30\n",
      "87/87 [==============================] - 15s 171ms/step - loss: 0.2823 - acc: 0.8671 - val_loss: 0.3727 - val_acc: 0.8116\n",
      "Epoch 18/30\n",
      "87/87 [==============================] - 15s 172ms/step - loss: 0.2843 - acc: 0.8732 - val_loss: 0.3204 - val_acc: 0.8485\n",
      "Epoch 19/30\n",
      "87/87 [==============================] - 15s 171ms/step - loss: 0.2665 - acc: 0.8811 - val_loss: 0.2546 - val_acc: 0.8750\n",
      "Epoch 20/30\n",
      "87/87 [==============================] - 15s 174ms/step - loss: 0.2561 - acc: 0.8908 - val_loss: 0.2602 - val_acc: 0.8759c: 0.890\n",
      "Epoch 21/30\n",
      "87/87 [==============================] - 15s 173ms/step - loss: 0.2688 - acc: 0.8779 - val_loss: 0.2418 - val_acc: 0.8836\n",
      "Epoch 22/30\n",
      "87/87 [==============================] - 15s 173ms/step - loss: 0.2593 - acc: 0.8833 - val_loss: 0.2320 - val_acc: 0.8964\n",
      "Epoch 23/30\n",
      "87/87 [==============================] - 15s 178ms/step - loss: 0.2744 - acc: 0.8746 - val_loss: 0.3308 - val_acc: 0.8313\n",
      "Epoch 24/30\n",
      "87/87 [==============================] - 14s 167ms/step - loss: 0.2637 - acc: 0.8833 - val_loss: 0.2371 - val_acc: 0.8878\n",
      "Epoch 25/30\n",
      "87/87 [==============================] - 15s 168ms/step - loss: 0.2586 - acc: 0.8861 - val_loss: 0.2221 - val_acc: 0.8973\n",
      "Epoch 26/30\n",
      "87/87 [==============================] - 15s 169ms/step - loss: 0.2542 - acc: 0.8876 - val_loss: 0.2511 - val_acc: 0.8818\n",
      "Epoch 27/30\n",
      "87/87 [==============================] - 15s 170ms/step - loss: 0.2637 - acc: 0.8775 - val_loss: 0.2164 - val_acc: 0.9024\n",
      "Epoch 28/30\n",
      "87/87 [==============================] - 15s 168ms/step - loss: 0.2414 - acc: 0.8969 - val_loss: 0.2250 - val_acc: 0.8947\n",
      "Epoch 29/30\n",
      "87/87 [==============================] - 15s 173ms/step - loss: 0.2590 - acc: 0.8872 - val_loss: 0.2852 - val_acc: 0.8604\n",
      "Epoch 30/30\n",
      "87/87 [==============================] - 15s 171ms/step - loss: 0.2502 - acc: 0.8894 - val_loss: 0.2518 - val_acc: 0.8904 - loss: 0.2521 - acc: 0\n"
     ]
    },
    {
     "data": {
      "text/plain": [
       "<keras.callbacks.History at 0x192956db948>"
      ]
     },
     "execution_count": 12,
     "metadata": {},
     "output_type": "execute_result"
    }
   ],
   "source": [
    "model.fit_generator(x_train,\n",
    "                         steps_per_epoch = 2800//32,\n",
    "                         epochs = 30,\n",
    "                         validation_data = x_test,\n",
    "                         validation_steps = 1200//32)"
   ]
  },
  {
   "cell_type": "code",
   "execution_count": 13,
   "metadata": {},
   "outputs": [],
   "source": [
    "model.save(\"intmodel.h5\")"
   ]
  },
  {
   "cell_type": "code",
   "execution_count": null,
   "metadata": {},
   "outputs": [],
   "source": []
  }
 ],
 "metadata": {
  "kernelspec": {
   "display_name": "Python 3",
   "language": "python",
   "name": "python3"
  },
  "language_info": {
   "codemirror_mode": {
    "name": "ipython",
    "version": 3
   },
   "file_extension": ".py",
   "mimetype": "text/x-python",
   "name": "python",
   "nbconvert_exporter": "python",
   "pygments_lexer": "ipython3",
   "version": "3.7.6"
  }
 },
 "nbformat": 4,
 "nbformat_minor": 4
}
