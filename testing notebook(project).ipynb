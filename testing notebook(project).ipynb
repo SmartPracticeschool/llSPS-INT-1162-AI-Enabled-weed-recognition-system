{
 "cells": [
  {
   "cell_type": "code",
   "execution_count": 9,
   "metadata": {},
   "outputs": [],
   "source": [
    "from keras.preprocessing.image import ImageDataGenerator \n",
    "from keras.models import Sequential\n",
    "from keras.layers import Conv2D,MaxPooling2D\n",
    "from keras.layers import Activation, Dropout, Flatten, Dense\n",
    "from keras import backend as k\n",
    "import numpy as np\n",
    "from keras.preprocessing import image"
   ]
  },
  {
   "cell_type": "code",
   "execution_count": 10,
   "metadata": {},
   "outputs": [
    {
     "name": "stdout",
     "output_type": "stream",
     "text": [
      "Found 2800 images belonging to 2 classes.\n",
      "Found 1200 images belonging to 2 classes.\n"
     ]
    }
   ],
   "source": [
    "img_width,img_height = 150,150\n",
    "train_data_dir='C:/Users/pragn/Desktop/cnn dataset/trainset'\n",
    "test_data_dir='C:/Users/pragn/Desktop/cnn dataset/testset'\n",
    "nb_train_samples=500\n",
    "nb_test_samples=200\n",
    "epochs=25\n",
    "batch_size=20\n",
    "if k.image_data_format()=='channel_first':\n",
    "    input_shape=(3,img_width,img_height)\n",
    "else:\n",
    "    input_shape=(img_width,img_height,3)\n",
    "    \n",
    "    \n",
    "train_datagen = ImageDataGenerator(rescale = 1./255,\n",
    "                                   shear_range = 0.2,\n",
    "                                   zoom_range = 0.2,\n",
    "                                   horizontal_flip = True)\n",
    "\n",
    "test_datagen = ImageDataGenerator(rescale = 1./255)\n",
    "\n",
    "x_train = train_datagen.flow_from_directory(train_data_dir,\n",
    "                                            target_size=(img_width,img_height),\n",
    "                                            batch_size=batch_size,\n",
    "                                            class_mode = 'binary')\n",
    "x_test = test_datagen.flow_from_directory(test_data_dir,\n",
    "                                            target_size=(img_width,img_height),\n",
    "                                            batch_size=batch_size,\n",
    "                                            class_mode = 'binary')"
   ]
  },
  {
   "cell_type": "code",
   "execution_count": 11,
   "metadata": {},
   "outputs": [
    {
     "name": "stdout",
     "output_type": "stream",
     "text": [
      "_________________________________________________________________\n",
      "Layer (type)                 Output Shape              Param #   \n",
      "=================================================================\n",
      "conv2d_4 (Conv2D)            (None, 148, 148, 32)      896       \n",
      "_________________________________________________________________\n",
      "activation_6 (Activation)    (None, 148, 148, 32)      0         \n",
      "_________________________________________________________________\n",
      "max_pooling2d_4 (MaxPooling2 (None, 74, 74, 32)        0         \n",
      "=================================================================\n",
      "Total params: 896\n",
      "Trainable params: 896\n",
      "Non-trainable params: 0\n",
      "_________________________________________________________________\n",
      "_________________________________________________________________\n",
      "Layer (type)                 Output Shape              Param #   \n",
      "=================================================================\n",
      "conv2d_4 (Conv2D)            (None, 148, 148, 32)      896       \n",
      "_________________________________________________________________\n",
      "activation_6 (Activation)    (None, 148, 148, 32)      0         \n",
      "_________________________________________________________________\n",
      "max_pooling2d_4 (MaxPooling2 (None, 74, 74, 32)        0         \n",
      "_________________________________________________________________\n",
      "conv2d_5 (Conv2D)            (None, 72, 72, 32)        9248      \n",
      "_________________________________________________________________\n",
      "activation_7 (Activation)    (None, 72, 72, 32)        0         \n",
      "_________________________________________________________________\n",
      "max_pooling2d_5 (MaxPooling2 (None, 36, 36, 32)        0         \n",
      "_________________________________________________________________\n",
      "conv2d_6 (Conv2D)            (None, 34, 34, 64)        18496     \n",
      "_________________________________________________________________\n",
      "activation_8 (Activation)    (None, 34, 34, 64)        0         \n",
      "_________________________________________________________________\n",
      "max_pooling2d_6 (MaxPooling2 (None, 17, 17, 64)        0         \n",
      "_________________________________________________________________\n",
      "flatten_2 (Flatten)          (None, 18496)             0         \n",
      "_________________________________________________________________\n",
      "dense_3 (Dense)              (None, 64)                1183808   \n",
      "_________________________________________________________________\n",
      "activation_9 (Activation)    (None, 64)                0         \n",
      "_________________________________________________________________\n",
      "dropout_2 (Dropout)          (None, 64)                0         \n",
      "_________________________________________________________________\n",
      "dense_4 (Dense)              (None, 1)                 65        \n",
      "_________________________________________________________________\n",
      "activation_10 (Activation)   (None, 1)                 0         \n",
      "=================================================================\n",
      "Total params: 1,212,513\n",
      "Trainable params: 1,212,513\n",
      "Non-trainable params: 0\n",
      "_________________________________________________________________\n"
     ]
    }
   ],
   "source": [
    "model=Sequential()\n",
    "model.add(Conv2D(32,(3,3),input_shape=input_shape))\n",
    "model.add(Activation('relu'))\n",
    "model.add(MaxPooling2D(pool_size=(2,2)))\n",
    "\n",
    "model.summary()\n",
    "\n",
    "model.add(Conv2D(32,(3,3)))\n",
    "model.add(Activation('relu'))\n",
    "model.add(MaxPooling2D(pool_size=(2,2)))\n",
    "\n",
    "model.add(Conv2D(64,(3,3)))\n",
    "model.add(Activation('relu'))\n",
    "model.add(MaxPooling2D(pool_size=(2,2)))\n",
    "\n",
    "model.add(Flatten())\n",
    "model.add(Dense(64))\n",
    "model.add(Activation('relu'))\n",
    "model.add(Dropout(0.5))\n",
    "model.add(Dense(1))\n",
    "model.add(Activation('sigmoid'))\n",
    "\n",
    "model.summary()\n",
    "\n",
    "model.compile(loss='binary_crossentropy',\n",
    "              optimizer='rmsprop',\n",
    "              metrics=['accuracy'])"
   ]
  },
  {
   "cell_type": "code",
   "execution_count": 12,
   "metadata": {},
   "outputs": [
    {
     "name": "stdout",
     "output_type": "stream",
     "text": [
      "Epoch 1/25\n",
      "500/500 [==============================] - 234s 467ms/step - loss: 0.3482 - acc: 0.8435 - val_loss: 0.1716 - val_acc: 0.9342\n",
      "Epoch 2/25\n",
      "500/500 [==============================] - 221s 442ms/step - loss: 0.2219 - acc: 0.9164 - val_loss: 0.1131 - val_acc: 0.9545\n",
      "Epoch 3/25\n",
      "500/500 [==============================] - 224s 448ms/step - loss: 0.1839 - acc: 0.9390 - val_loss: 0.1489 - val_acc: 0.9595\n",
      "Epoch 4/25\n",
      "500/500 [==============================] - 224s 448ms/step - loss: 0.1637 - acc: 0.9476 - val_loss: 0.0694 - val_acc: 0.9810\n",
      "Epoch 5/25\n",
      "500/500 [==============================] - 225s 450ms/step - loss: 0.1526 - acc: 0.9544 - val_loss: 0.0600 - val_acc: 0.9792\n",
      "Epoch 6/25\n",
      "500/500 [==============================] - 226s 451ms/step - loss: 0.1492 - acc: 0.9551 - val_loss: 0.0597 - val_acc: 0.9797\n",
      "Epoch 7/25\n",
      "500/500 [==============================] - 226s 453ms/step - loss: 0.1354 - acc: 0.9600 - val_loss: 0.0911 - val_acc: 0.9697\n",
      "Epoch 8/25\n",
      "500/500 [==============================] - 227s 455ms/step - loss: 0.1277 - acc: 0.9661 - val_loss: 0.0597 - val_acc: 0.9827\n",
      "Epoch 9/25\n",
      "500/500 [==============================] - 214s 428ms/step - loss: 0.1185 - acc: 0.9648 - val_loss: 0.0746 - val_acc: 0.9770\n",
      "Epoch 10/25\n",
      "500/500 [==============================] - 204s 408ms/step - loss: 0.1177 - acc: 0.9670 - val_loss: 0.0824 - val_acc: 0.9765\n",
      "Epoch 11/25\n",
      "500/500 [==============================] - 204s 409ms/step - loss: 0.1061 - acc: 0.9720 - val_loss: 0.0516 - val_acc: 0.9842\n",
      "Epoch 12/25\n",
      "500/500 [==============================] - 204s 408ms/step - loss: 0.1161 - acc: 0.9692 - val_loss: 0.0497 - val_acc: 0.9842\n",
      "Epoch 13/25\n",
      "500/500 [==============================] - 205s 411ms/step - loss: 0.1235 - acc: 0.9715 - val_loss: 0.0512 - val_acc: 0.9875\n",
      "Epoch 14/25\n",
      "500/500 [==============================] - 207s 414ms/step - loss: 0.1035 - acc: 0.9742 - val_loss: 0.0341 - val_acc: 0.9917\n",
      "Epoch 15/25\n",
      "500/500 [==============================] - 227s 453ms/step - loss: 0.1184 - acc: 0.9736 - val_loss: 0.0466 - val_acc: 0.9897\n",
      "Epoch 16/25\n",
      "500/500 [==============================] - 231s 461ms/step - loss: 0.1004 - acc: 0.9774 - val_loss: 0.0802 - val_acc: 0.9702\n",
      "Epoch 17/25\n",
      "500/500 [==============================] - 232s 464ms/step - loss: 0.1003 - acc: 0.9778 - val_loss: 0.0355 - val_acc: 0.9895\n",
      "Epoch 18/25\n",
      "500/500 [==============================] - 230s 461ms/step - loss: 0.1081 - acc: 0.9761 - val_loss: 0.0735 - val_acc: 0.9862\n",
      "Epoch 19/25\n",
      "500/500 [==============================] - 232s 464ms/step - loss: 0.1019 - acc: 0.9779 - val_loss: 0.3893 - val_acc: 0.9182\n",
      "Epoch 20/25\n",
      "500/500 [==============================] - 232s 464ms/step - loss: 0.0832 - acc: 0.9829 - val_loss: 0.0907 - val_acc: 0.9832\n",
      "Epoch 21/25\n",
      "500/500 [==============================] - 232s 464ms/step - loss: 0.0825 - acc: 0.9805 - val_loss: 0.1090 - val_acc: 0.9852\n",
      "Epoch 22/25\n",
      "500/500 [==============================] - 237s 475ms/step - loss: 0.0883 - acc: 0.9819 - val_loss: 0.0308 - val_acc: 0.9912\n",
      "Epoch 23/25\n",
      "500/500 [==============================] - 258s 516ms/step - loss: 0.0949 - acc: 0.9796 - val_loss: 0.0693 - val_acc: 0.9820\n",
      "Epoch 24/25\n",
      "500/500 [==============================] - 309s 619ms/step - loss: 0.0817 - acc: 0.9846 - val_loss: 0.0621 - val_acc: 0.9862\n",
      "Epoch 25/25\n",
      "500/500 [==============================] - 255s 510ms/step - loss: 0.0780 - acc: 0.9820 - val_loss: 0.0714 - val_acc: 0.9782\n"
     ]
    },
    {
     "data": {
      "text/plain": [
       "<keras.callbacks.History at 0x14c34727d88>"
      ]
     },
     "execution_count": 12,
     "metadata": {},
     "output_type": "execute_result"
    }
   ],
   "source": [
    "model.fit_generator(x_train,\n",
    "                    steps_per_epoch=nb_train_samples,\n",
    "                    epochs=epochs,\n",
    "                    validation_data=x_test,\n",
    "                    validation_steps=nb_test_samples)"
   ]
  },
  {
   "cell_type": "code",
   "execution_count": 13,
   "metadata": {},
   "outputs": [],
   "source": [
    "model.save_weights('first_try.h5')"
   ]
  },
  {
   "cell_type": "code",
   "execution_count": 30,
   "metadata": {},
   "outputs": [],
   "source": [
    "img_pred = image.load_img('C:/Users/pragn/Desktop/cnn dataset/testset/weed/grass/922.tif',target_size=(150,150))\n",
    "img_pred=image.img_to_array(img_pred)\n",
    "img_pred=np.expand_dims(img_pred,axis=0)"
   ]
  },
  {
   "cell_type": "code",
   "execution_count": 31,
   "metadata": {},
   "outputs": [
    {
     "name": "stdout",
     "output_type": "stream",
     "text": [
      "[[1.]]\n",
      "weed\n"
     ]
    }
   ],
   "source": [
    "result=model.predict(img_pred)\n",
    "print(result)\n",
    "if result[0][0]==1:\n",
    "    prediction=\"weed\"\n",
    "else:\n",
    "    prediction=\"crop\"\n",
    "print(prediction)"
   ]
  },
  {
   "cell_type": "raw",
   "metadata": {},
   "source": []
  }
 ],
 "metadata": {
  "kernelspec": {
   "display_name": "Python 3",
   "language": "python",
   "name": "python3"
  },
  "language_info": {
   "codemirror_mode": {
    "name": "ipython",
    "version": 3
   },
   "file_extension": ".py",
   "mimetype": "text/x-python",
   "name": "python",
   "nbconvert_exporter": "python",
   "pygments_lexer": "ipython3",
   "version": "3.7.6"
  }
 },
 "nbformat": 4,
 "nbformat_minor": 4
}
